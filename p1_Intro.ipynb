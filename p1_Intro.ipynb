{
 "cells": [
  {
   "cell_type": "code",
   "execution_count": 5,
   "metadata": {},
   "outputs": [],
   "source": [
    "#https://www.youtube.com/watch?v=nLw1RNvfElg ; Introduction - Data Analysis and Data Science with Python and Pandas\n",
    "import pandas as pd\n",
    "\n",
    "df = pd.read_csv(\"datasets/market_data.csv\") # df = data frame"
   ]
  },
  {
   "cell_type": "code",
   "execution_count": 6,
   "metadata": {},
   "outputs": [
    {
     "data": {
      "text/html": [
       "<div>\n",
       "<style scoped>\n",
       "    .dataframe tbody tr th:only-of-type {\n",
       "        vertical-align: middle;\n",
       "    }\n",
       "\n",
       "    .dataframe tbody tr th {\n",
       "        vertical-align: top;\n",
       "    }\n",
       "\n",
       "    .dataframe thead th {\n",
       "        text-align: right;\n",
       "    }\n",
       "</style>\n",
       "<table border=\"1\" class=\"dataframe\">\n",
       "  <thead>\n",
       "    <tr style=\"text-align: right;\">\n",
       "      <th></th>\n",
       "      <th>Timestamp</th>\n",
       "      <th>Instrument</th>\n",
       "      <th>Bid Price</th>\n",
       "      <th>Bid Volume</th>\n",
       "      <th>Ask Price</th>\n",
       "      <th>Ask Volume</th>\n",
       "    </tr>\n",
       "  </thead>\n",
       "  <tbody>\n",
       "    <tr>\n",
       "      <th>0</th>\n",
       "      <td>11:43:08</td>\n",
       "      <td>ESX-FUTURE</td>\n",
       "      <td>3358.50</td>\n",
       "      <td>2032</td>\n",
       "      <td>3358.75</td>\n",
       "      <td>1441</td>\n",
       "    </tr>\n",
       "    <tr>\n",
       "      <th>1</th>\n",
       "      <td>11:43:08</td>\n",
       "      <td>SP-FUTURE</td>\n",
       "      <td>2912.25</td>\n",
       "      <td>1439</td>\n",
       "      <td>2912.50</td>\n",
       "      <td>130</td>\n",
       "    </tr>\n",
       "  </tbody>\n",
       "</table>\n",
       "</div>"
      ],
      "text/plain": [
       "  Timestamp  Instrument  Bid Price  Bid Volume  Ask Price  Ask Volume\n",
       "0  11:43:08  ESX-FUTURE    3358.50        2032    3358.75        1441\n",
       "1  11:43:08   SP-FUTURE    2912.25        1439    2912.50         130"
      ]
     },
     "execution_count": 6,
     "metadata": {},
     "output_type": "execute_result"
    }
   ],
   "source": [
    "df.head(2)"
   ]
  },
  {
   "cell_type": "code",
   "execution_count": 7,
   "metadata": {},
   "outputs": [
    {
     "data": {
      "text/plain": [
       "0    3358.50\n",
       "1    2912.25\n",
       "Name: Bid Price, dtype: float64"
      ]
     },
     "execution_count": 7,
     "metadata": {},
     "output_type": "execute_result"
    }
   ],
   "source": [
    "df[\"Bid Price\"].head(2)"
   ]
  },
  {
   "cell_type": "code",
   "execution_count": 8,
   "metadata": {},
   "outputs": [
    {
     "data": {
      "text/plain": [
       "<matplotlib.axes._subplots.AxesSubplot at 0x228d6733388>"
      ]
     },
     "execution_count": 8,
     "metadata": {},
     "output_type": "execute_result"
    },
    {
     "data": {
      "image/png": "[encoded data removed]",
      "text/plain": [
       "<Figure size 432x288 with 1 Axes>"
      ]
     },
     "metadata": {
      "needs_background": "light"
     },
     "output_type": "display_data"
    }
   ],
   "source": [
    "df[\"Bid Price\"].head().plot()"
   ]
  },
  {
   "cell_type": "code",
   "execution_count": 9,
   "metadata": {},
   "outputs": [
    {
     "data": {
      "text/plain": [
       "<matplotlib.axes._subplots.AxesSubplot at 0x228d885cd88>"
      ]
     },
     "execution_count": 9,
     "metadata": {},
     "output_type": "execute_result"
    },
    {
     "data": {
      "image/png": "[encoded data removed]",
      "text/plain": [
       "<Figure size 432x288 with 1 Axes>"
      ]
     },
     "metadata": {
      "needs_background": "light"
     },
     "output_type": "display_data"
    }
   ],
   "source": [
    "df.plot()"
   ]
  },
  {
   "cell_type": "code",
   "execution_count": 10,
   "metadata": {},
   "outputs": [
    {
     "data": {
      "text/html": [
       "<div>\n",
       "<style scoped>\n",
       "    .dataframe tbody tr th:only-of-type {\n",
       "        vertical-align: middle;\n",
       "    }\n",
       "\n",
       "    .dataframe tbody tr th {\n",
       "        vertical-align: top;\n",
       "    }\n",
       "\n",
       "    .dataframe thead th {\n",
       "        text-align: right;\n",
       "    }\n",
       "</style>\n",
       "<table border=\"1\" class=\"dataframe\">\n",
       "  <thead>\n",
       "    <tr style=\"text-align: right;\">\n",
       "      <th></th>\n",
       "      <th>Timestamp</th>\n",
       "      <th>Instrument</th>\n",
       "      <th>Bid Price</th>\n",
       "      <th>Bid Volume</th>\n",
       "      <th>Ask Price</th>\n",
       "      <th>Ask Volume</th>\n",
       "    </tr>\n",
       "  </thead>\n",
       "  <tbody>\n",
       "    <tr>\n",
       "      <th>0</th>\n",
       "      <td>11:43:08</td>\n",
       "      <td>ESX-FUTURE</td>\n",
       "      <td>3358.50</td>\n",
       "      <td>2032</td>\n",
       "      <td>3358.75</td>\n",
       "      <td>1441</td>\n",
       "    </tr>\n",
       "    <tr>\n",
       "      <th>3</th>\n",
       "      <td>11:43:09</td>\n",
       "      <td>ESX-FUTURE</td>\n",
       "      <td>3358.75</td>\n",
       "      <td>1571</td>\n",
       "      <td>3359.00</td>\n",
       "      <td>1902</td>\n",
       "    </tr>\n",
       "    <tr>\n",
       "      <th>4</th>\n",
       "      <td>11:43:10</td>\n",
       "      <td>ESX-FUTURE</td>\n",
       "      <td>3358.75</td>\n",
       "      <td>2697</td>\n",
       "      <td>3359.00</td>\n",
       "      <td>776</td>\n",
       "    </tr>\n",
       "    <tr>\n",
       "      <th>7</th>\n",
       "      <td>11:43:11</td>\n",
       "      <td>ESX-FUTURE</td>\n",
       "      <td>3358.75</td>\n",
       "      <td>2573</td>\n",
       "      <td>3359.00</td>\n",
       "      <td>900</td>\n",
       "    </tr>\n",
       "    <tr>\n",
       "      <th>8</th>\n",
       "      <td>11:43:12</td>\n",
       "      <td>ESX-FUTURE</td>\n",
       "      <td>3358.75</td>\n",
       "      <td>2577</td>\n",
       "      <td>3359.00</td>\n",
       "      <td>896</td>\n",
       "    </tr>\n",
       "  </tbody>\n",
       "</table>\n",
       "</div>"
      ],
      "text/plain": [
       "  Timestamp  Instrument  Bid Price  Bid Volume  Ask Price  Ask Volume\n",
       "0  11:43:08  ESX-FUTURE    3358.50        2032    3358.75        1441\n",
       "3  11:43:09  ESX-FUTURE    3358.75        1571    3359.00        1902\n",
       "4  11:43:10  ESX-FUTURE    3358.75        2697    3359.00         776\n",
       "7  11:43:11  ESX-FUTURE    3358.75        2573    3359.00         900\n",
       "8  11:43:12  ESX-FUTURE    3358.75        2577    3359.00         896"
      ]
     },
     "execution_count": 10,
     "metadata": {},
     "output_type": "execute_result"
    }
   ],
   "source": [
    "ESX_df = df[ df['Instrument'] == \"ESX-FUTURE\" ]\n",
    "ESX_df.head()"
   ]
  },
  {
   "cell_type": "code",
   "execution_count": 11,
   "metadata": {},
   "outputs": [
    {
     "data": {
      "text/plain": [
       "Int64Index([    0,     3,     4,     7,     8,    10,    13,    14,    16,\n",
       "               18,\n",
       "            ...\n",
       "            22026, 22028, 22029, 22031, 22034, 22035, 22037, 22039, 22040,\n",
       "            22044],\n",
       "           dtype='int64', length=11037)"
      ]
     },
     "execution_count": 11,
     "metadata": {},
     "output_type": "execute_result"
    }
   ],
   "source": [
    "ESX_df.index"
   ]
  },
  {
   "cell_type": "code",
   "execution_count": 12,
   "metadata": {},
   "outputs": [
    {
     "data": {
      "text/html": [
       "<div>\n",
       "<style scoped>\n",
       "    .dataframe tbody tr th:only-of-type {\n",
       "        vertical-align: middle;\n",
       "    }\n",
       "\n",
       "    .dataframe tbody tr th {\n",
       "        vertical-align: top;\n",
       "    }\n",
       "\n",
       "    .dataframe thead th {\n",
       "        text-align: right;\n",
       "    }\n",
       "</style>\n",
       "<table border=\"1\" class=\"dataframe\">\n",
       "  <thead>\n",
       "    <tr style=\"text-align: right;\">\n",
       "      <th></th>\n",
       "      <th>Instrument</th>\n",
       "      <th>Bid Price</th>\n",
       "      <th>Bid Volume</th>\n",
       "      <th>Ask Price</th>\n",
       "      <th>Ask Volume</th>\n",
       "    </tr>\n",
       "    <tr>\n",
       "      <th>Timestamp</th>\n",
       "      <th></th>\n",
       "      <th></th>\n",
       "      <th></th>\n",
       "      <th></th>\n",
       "      <th></th>\n",
       "    </tr>\n",
       "  </thead>\n",
       "  <tbody>\n",
       "    <tr>\n",
       "      <th>11:43:08</th>\n",
       "      <td>ESX-FUTURE</td>\n",
       "      <td>3358.50</td>\n",
       "      <td>2032</td>\n",
       "      <td>3358.75</td>\n",
       "      <td>1441</td>\n",
       "    </tr>\n",
       "    <tr>\n",
       "      <th>11:43:09</th>\n",
       "      <td>ESX-FUTURE</td>\n",
       "      <td>3358.75</td>\n",
       "      <td>1571</td>\n",
       "      <td>3359.00</td>\n",
       "      <td>1902</td>\n",
       "    </tr>\n",
       "    <tr>\n",
       "      <th>11:43:10</th>\n",
       "      <td>ESX-FUTURE</td>\n",
       "      <td>3358.75</td>\n",
       "      <td>2697</td>\n",
       "      <td>3359.00</td>\n",
       "      <td>776</td>\n",
       "    </tr>\n",
       "    <tr>\n",
       "      <th>11:43:11</th>\n",
       "      <td>ESX-FUTURE</td>\n",
       "      <td>3358.75</td>\n",
       "      <td>2573</td>\n",
       "      <td>3359.00</td>\n",
       "      <td>900</td>\n",
       "    </tr>\n",
       "    <tr>\n",
       "      <th>11:43:12</th>\n",
       "      <td>ESX-FUTURE</td>\n",
       "      <td>3358.75</td>\n",
       "      <td>2577</td>\n",
       "      <td>3359.00</td>\n",
       "      <td>896</td>\n",
       "    </tr>\n",
       "    <tr>\n",
       "      <th>...</th>\n",
       "      <td>...</td>\n",
       "      <td>...</td>\n",
       "      <td>...</td>\n",
       "      <td>...</td>\n",
       "      <td>...</td>\n",
       "    </tr>\n",
       "    <tr>\n",
       "      <th>15:15:56</th>\n",
       "      <td>ESX-FUTURE</td>\n",
       "      <td>3327.25</td>\n",
       "      <td>3118</td>\n",
       "      <td>3327.50</td>\n",
       "      <td>367</td>\n",
       "    </tr>\n",
       "    <tr>\n",
       "      <th>15:15:57</th>\n",
       "      <td>ESX-FUTURE</td>\n",
       "      <td>3327.25</td>\n",
       "      <td>2951</td>\n",
       "      <td>3327.50</td>\n",
       "      <td>534</td>\n",
       "    </tr>\n",
       "    <tr>\n",
       "      <th>15:15:58</th>\n",
       "      <td>ESX-FUTURE</td>\n",
       "      <td>3327.25</td>\n",
       "      <td>3006</td>\n",
       "      <td>3327.50</td>\n",
       "      <td>479</td>\n",
       "    </tr>\n",
       "    <tr>\n",
       "      <th>15:15:58</th>\n",
       "      <td>ESX-FUTURE</td>\n",
       "      <td>3327.50</td>\n",
       "      <td>347</td>\n",
       "      <td>3327.75</td>\n",
       "      <td>3138</td>\n",
       "    </tr>\n",
       "    <tr>\n",
       "      <th>15:16:00</th>\n",
       "      <td>ESX-FUTURE</td>\n",
       "      <td>3327.25</td>\n",
       "      <td>2805</td>\n",
       "      <td>3327.50</td>\n",
       "      <td>680</td>\n",
       "    </tr>\n",
       "  </tbody>\n",
       "</table>\n",
       "<p>11037 rows × 5 columns</p>\n",
       "</div>"
      ],
      "text/plain": [
       "           Instrument  Bid Price  Bid Volume  Ask Price  Ask Volume\n",
       "Timestamp                                                          \n",
       "11:43:08   ESX-FUTURE    3358.50        2032    3358.75        1441\n",
       "11:43:09   ESX-FUTURE    3358.75        1571    3359.00        1902\n",
       "11:43:10   ESX-FUTURE    3358.75        2697    3359.00         776\n",
       "11:43:11   ESX-FUTURE    3358.75        2573    3359.00         900\n",
       "11:43:12   ESX-FUTURE    3358.75        2577    3359.00         896\n",
       "...               ...        ...         ...        ...         ...\n",
       "15:15:56   ESX-FUTURE    3327.25        3118    3327.50         367\n",
       "15:15:57   ESX-FUTURE    3327.25        2951    3327.50         534\n",
       "15:15:58   ESX-FUTURE    3327.25        3006    3327.50         479\n",
       "15:15:58   ESX-FUTURE    3327.50         347    3327.75        3138\n",
       "15:16:00   ESX-FUTURE    3327.25        2805    3327.50         680\n",
       "\n",
       "[11037 rows x 5 columns]"
      ]
     },
     "execution_count": 12,
     "metadata": {},
     "output_type": "execute_result"
    }
   ],
   "source": [
    "ESX_df.set_index(\"Timestamp\")"
   ]
  },
  {
   "cell_type": "code",
   "execution_count": 13,
   "metadata": {},
   "outputs": [],
   "source": [
    "ESX_df = ESX_df.set_index(\"Timestamp\")"
   ]
  },
  {
   "cell_type": "code",
   "execution_count": 14,
   "metadata": {},
   "outputs": [
    {
     "data": {
      "text/html": [
       "<div>\n",
       "<style scoped>\n",
       "    .dataframe tbody tr th:only-of-type {\n",
       "        vertical-align: middle;\n",
       "    }\n",
       "\n",
       "    .dataframe tbody tr th {\n",
       "        vertical-align: top;\n",
       "    }\n",
       "\n",
       "    .dataframe thead th {\n",
       "        text-align: right;\n",
       "    }\n",
       "</style>\n",
       "<table border=\"1\" class=\"dataframe\">\n",
       "  <thead>\n",
       "    <tr style=\"text-align: right;\">\n",
       "      <th></th>\n",
       "      <th>Instrument</th>\n",
       "      <th>Bid Price</th>\n",
       "      <th>Bid Volume</th>\n",
       "      <th>Ask Price</th>\n",
       "      <th>Ask Volume</th>\n",
       "    </tr>\n",
       "    <tr>\n",
       "      <th>Timestamp</th>\n",
       "      <th></th>\n",
       "      <th></th>\n",
       "      <th></th>\n",
       "      <th></th>\n",
       "      <th></th>\n",
       "    </tr>\n",
       "  </thead>\n",
       "  <tbody>\n",
       "    <tr>\n",
       "      <th>11:43:08</th>\n",
       "      <td>ESX-FUTURE</td>\n",
       "      <td>3358.50</td>\n",
       "      <td>2032</td>\n",
       "      <td>3358.75</td>\n",
       "      <td>1441</td>\n",
       "    </tr>\n",
       "    <tr>\n",
       "      <th>11:43:09</th>\n",
       "      <td>ESX-FUTURE</td>\n",
       "      <td>3358.75</td>\n",
       "      <td>1571</td>\n",
       "      <td>3359.00</td>\n",
       "      <td>1902</td>\n",
       "    </tr>\n",
       "    <tr>\n",
       "      <th>11:43:10</th>\n",
       "      <td>ESX-FUTURE</td>\n",
       "      <td>3358.75</td>\n",
       "      <td>2697</td>\n",
       "      <td>3359.00</td>\n",
       "      <td>776</td>\n",
       "    </tr>\n",
       "    <tr>\n",
       "      <th>11:43:11</th>\n",
       "      <td>ESX-FUTURE</td>\n",
       "      <td>3358.75</td>\n",
       "      <td>2573</td>\n",
       "      <td>3359.00</td>\n",
       "      <td>900</td>\n",
       "    </tr>\n",
       "    <tr>\n",
       "      <th>11:43:12</th>\n",
       "      <td>ESX-FUTURE</td>\n",
       "      <td>3358.75</td>\n",
       "      <td>2577</td>\n",
       "      <td>3359.00</td>\n",
       "      <td>896</td>\n",
       "    </tr>\n",
       "  </tbody>\n",
       "</table>\n",
       "</div>"
      ],
      "text/plain": [
       "           Instrument  Bid Price  Bid Volume  Ask Price  Ask Volume\n",
       "Timestamp                                                          \n",
       "11:43:08   ESX-FUTURE    3358.50        2032    3358.75        1441\n",
       "11:43:09   ESX-FUTURE    3358.75        1571    3359.00        1902\n",
       "11:43:10   ESX-FUTURE    3358.75        2697    3359.00         776\n",
       "11:43:11   ESX-FUTURE    3358.75        2573    3359.00         900\n",
       "11:43:12   ESX-FUTURE    3358.75        2577    3359.00         896"
      ]
     },
     "execution_count": 14,
     "metadata": {},
     "output_type": "execute_result"
    }
   ],
   "source": [
    "ESX_df.head()"
   ]
  },
  {
   "cell_type": "code",
   "execution_count": 15,
   "metadata": {},
   "outputs": [
    {
     "data": {
      "text/plain": [
       "<matplotlib.axes._subplots.AxesSubplot at 0x228d63e7dc8>"
      ]
     },
     "execution_count": 15,
     "metadata": {},
     "output_type": "execute_result"
    },
    {
     "data": {
      "image/png": "[encoded data removed]",
      "text/plain": [
       "<Figure size 432x288 with 1 Axes>"
      ]
     },
     "metadata": {
      "needs_background": "light"
     },
     "output_type": "display_data"
    }
   ],
   "source": [
    "ESX_df[\"Bid Price\"].plot()"
   ]
  },
  {
   "cell_type": "code",
   "execution_count": 16,
   "metadata": {},
   "outputs": [
    {
     "data": {
      "text/plain": [
       "<matplotlib.axes._subplots.AxesSubplot at 0x228d99b5888>"
      ]
     },
     "execution_count": 16,
     "metadata": {},
     "output_type": "execute_result"
    },
    {
     "data": {
      "image/png": "[encoded data removed]",
      "text/plain": [
       "<Figure size 432x288 with 1 Axes>"
      ]
     },
     "metadata": {
      "needs_background": "light"
     },
     "output_type": "display_data"
    }
   ],
   "source": [
    "ESX_df.plot()"
   ]
  },
  {
   "cell_type": "code",
   "execution_count": null,
   "metadata": {},
   "outputs": [],
   "source": []
  }
 ],
 "metadata": {
  "kernelspec": {
   "display_name": "Python 3",
   "language": "python",
   "name": "python3"
  },
  "language_info": {
   "codemirror_mode": {
    "name": "ipython",
    "version": 3
   },
   "file_extension": ".py",
   "mimetype": "text/x-python",
   "name": "python",
   "nbconvert_exporter": "python",
   "pygments_lexer": "ipython3",
   "version": "3.7.5"
  }
 },
 "nbformat": 4,
 "nbformat_minor": 4
}
